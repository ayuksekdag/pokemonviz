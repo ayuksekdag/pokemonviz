{
  "nbformat": 4,
  "nbformat_minor": 0,
  "metadata": {
    "colab": {
      "name": "pokemonviz.ipynb",
      "provenance": [],
      "collapsed_sections": [],
      "toc_visible": true,
      "authorship_tag": "ABX9TyPz03X7Q8tVomObTVdSfAfc",
      "include_colab_link": true
    },
    "kernelspec": {
      "name": "python3",
      "display_name": "Python 3"
    },
    "language_info": {
      "name": "python"
    }
  },
  "cells": [
    {
      "cell_type": "markdown",
      "metadata": {
        "id": "view-in-github",
        "colab_type": "text"
      },
      "source": [
        "<a href=\"https://colab.research.google.com/github/ayuksekdag/pokemonviz/blob/main/pokemonviz.ipynb\" target=\"_parent\"><img src=\"https://colab.research.google.com/assets/colab-badge.svg\" alt=\"Open In Colab\"/></a>"
      ]
    },
    {
      "cell_type": "code",
      "metadata": {
        "id": "svxZBWqkWOn2"
      },
      "source": [
        "import pandas as pd\n",
        "import matplotlib.pyplot as plt\n",
        "from importlib import reload\n",
        "plt=reload(plt)\n",
        "import seaborn as sns"
      ],
      "execution_count": 24,
      "outputs": []
    },
    {
      "cell_type": "markdown",
      "metadata": {
        "id": "BUgBPRQK7siU"
      },
      "source": [
        "# Nieuwe sectie"
      ]
    },
    {
      "cell_type": "code",
      "metadata": {
        "id": "mWE2gbXHfsgo",
        "colab": {
          "base_uri": "https://localhost:8080/",
          "height": 173
        },
        "outputId": "b38ecc31-a7ff-4f69-84de-4401a9386256"
      },
      "source": [
        "df = pd.read_csv('https://raw.githubusercontent.com/ayuksekdag/pokemonviz/main/pokemon.csv')\n",
        "df.head(4)"
      ],
      "execution_count": 2,
      "outputs": [
        {
          "output_type": "execute_result",
          "data": {
            "text/html": [
              "<div>\n",
              "<style scoped>\n",
              "    .dataframe tbody tr th:only-of-type {\n",
              "        vertical-align: middle;\n",
              "    }\n",
              "\n",
              "    .dataframe tbody tr th {\n",
              "        vertical-align: top;\n",
              "    }\n",
              "\n",
              "    .dataframe thead th {\n",
              "        text-align: right;\n",
              "    }\n",
              "</style>\n",
              "<table border=\"1\" class=\"dataframe\">\n",
              "  <thead>\n",
              "    <tr style=\"text-align: right;\">\n",
              "      <th></th>\n",
              "      <th>#</th>\n",
              "      <th>Name</th>\n",
              "      <th>Type 1</th>\n",
              "      <th>Type 2</th>\n",
              "      <th>Total</th>\n",
              "      <th>HP</th>\n",
              "      <th>Attack</th>\n",
              "      <th>Defense</th>\n",
              "      <th>Sp. Atk</th>\n",
              "      <th>Sp. Def</th>\n",
              "      <th>Speed</th>\n",
              "      <th>Generation</th>\n",
              "      <th>Legendary</th>\n",
              "    </tr>\n",
              "  </thead>\n",
              "  <tbody>\n",
              "    <tr>\n",
              "      <th>0</th>\n",
              "      <td>1</td>\n",
              "      <td>Bulbasaur</td>\n",
              "      <td>Grass</td>\n",
              "      <td>Poison</td>\n",
              "      <td>318</td>\n",
              "      <td>45</td>\n",
              "      <td>49</td>\n",
              "      <td>49</td>\n",
              "      <td>65</td>\n",
              "      <td>65</td>\n",
              "      <td>45</td>\n",
              "      <td>1</td>\n",
              "      <td>False</td>\n",
              "    </tr>\n",
              "    <tr>\n",
              "      <th>1</th>\n",
              "      <td>2</td>\n",
              "      <td>Ivysaur</td>\n",
              "      <td>Grass</td>\n",
              "      <td>Poison</td>\n",
              "      <td>405</td>\n",
              "      <td>60</td>\n",
              "      <td>62</td>\n",
              "      <td>63</td>\n",
              "      <td>80</td>\n",
              "      <td>80</td>\n",
              "      <td>60</td>\n",
              "      <td>1</td>\n",
              "      <td>False</td>\n",
              "    </tr>\n",
              "    <tr>\n",
              "      <th>2</th>\n",
              "      <td>3</td>\n",
              "      <td>Venusaur</td>\n",
              "      <td>Grass</td>\n",
              "      <td>Poison</td>\n",
              "      <td>525</td>\n",
              "      <td>80</td>\n",
              "      <td>82</td>\n",
              "      <td>83</td>\n",
              "      <td>100</td>\n",
              "      <td>100</td>\n",
              "      <td>80</td>\n",
              "      <td>1</td>\n",
              "      <td>False</td>\n",
              "    </tr>\n",
              "    <tr>\n",
              "      <th>3</th>\n",
              "      <td>3</td>\n",
              "      <td>VenusaurMega Venusaur</td>\n",
              "      <td>Grass</td>\n",
              "      <td>Poison</td>\n",
              "      <td>625</td>\n",
              "      <td>80</td>\n",
              "      <td>100</td>\n",
              "      <td>123</td>\n",
              "      <td>122</td>\n",
              "      <td>120</td>\n",
              "      <td>80</td>\n",
              "      <td>1</td>\n",
              "      <td>False</td>\n",
              "    </tr>\n",
              "  </tbody>\n",
              "</table>\n",
              "</div>"
            ],
            "text/plain": [
              "   #                   Name Type 1  ... Speed  Generation  Legendary\n",
              "0  1              Bulbasaur  Grass  ...    45           1      False\n",
              "1  2                Ivysaur  Grass  ...    60           1      False\n",
              "2  3               Venusaur  Grass  ...    80           1      False\n",
              "3  3  VenusaurMega Venusaur  Grass  ...    80           1      False\n",
              "\n",
              "[4 rows x 13 columns]"
            ]
          },
          "metadata": {
            "tags": []
          },
          "execution_count": 2
        }
      ]
    },
    {
      "cell_type": "markdown",
      "metadata": {
        "id": "Ci7nABoOU0NR"
      },
      "source": [
        "how is the filling og the datafram"
      ]
    },
    {
      "cell_type": "code",
      "metadata": {
        "id": "xClXvWSXU31M",
        "colab": {
          "base_uri": "https://localhost:8080/"
        },
        "outputId": "aab75401-648a-4286-df3a-1e46ca8731b3"
      },
      "source": [
        "df.shape"
      ],
      "execution_count": 3,
      "outputs": [
        {
          "output_type": "execute_result",
          "data": {
            "text/plain": [
              "(800, 13)"
            ]
          },
          "metadata": {
            "tags": []
          },
          "execution_count": 3
        }
      ]
    },
    {
      "cell_type": "markdown",
      "metadata": {
        "id": "M2-FZ9ufUZAK"
      },
      "source": [
        "#drop # column"
      ]
    },
    {
      "cell_type": "code",
      "metadata": {
        "id": "sLXzoBXPTpLI",
        "colab": {
          "base_uri": "https://localhost:8080/"
        },
        "outputId": "4342043e-d151-45e1-b7f8-55977a774ed5"
      },
      "source": [
        "print(df.columns)\n",
        "print(df.shape)\n",
        "del df['#']\n",
        "print(df.columns)\n",
        "print (df.shape)"
      ],
      "execution_count": 4,
      "outputs": [
        {
          "output_type": "stream",
          "text": [
            "Index(['#', 'Name', 'Type 1', 'Type 2', 'Total', 'HP', 'Attack', 'Defense',\n",
            "       'Sp. Atk', 'Sp. Def', 'Speed', 'Generation', 'Legendary'],\n",
            "      dtype='object')\n",
            "(800, 13)\n",
            "Index(['Name', 'Type 1', 'Type 2', 'Total', 'HP', 'Attack', 'Defense',\n",
            "       'Sp. Atk', 'Sp. Def', 'Speed', 'Generation', 'Legendary'],\n",
            "      dtype='object')\n",
            "(800, 12)\n"
          ],
          "name": "stdout"
        }
      ]
    },
    {
      "cell_type": "markdown",
      "metadata": {
        "id": "pZGEeBetVZov"
      },
      "source": [
        "replace column names to upper"
      ]
    },
    {
      "cell_type": "code",
      "metadata": {
        "id": "K6lizngPVe6S",
        "colab": {
          "base_uri": "https://localhost:8080/"
        },
        "outputId": "dc8d05fd-5a2e-42b1-eecd-de2bc79a0ebd"
      },
      "source": [
        "df.columns = df.columns.str.upper()\n",
        "df.columns"
      ],
      "execution_count": 5,
      "outputs": [
        {
          "output_type": "execute_result",
          "data": {
            "text/plain": [
              "Index(['NAME', 'TYPE 1', 'TYPE 2', 'TOTAL', 'HP', 'ATTACK', 'DEFENSE',\n",
              "       'SP. ATK', 'SP. DEF', 'SPEED', 'GENERATION', 'LEGENDARY'],\n",
              "      dtype='object')"
            ]
          },
          "metadata": {
            "tags": []
          },
          "execution_count": 5
        }
      ]
    },
    {
      "cell_type": "markdown",
      "metadata": {
        "id": "yUnQKv9hWWMR"
      },
      "source": [
        "set the index on name \n",
        "so you can search wil method loc"
      ]
    },
    {
      "cell_type": "code",
      "metadata": {
        "id": "CbMsqQOaWbWK"
      },
      "source": [
        "df.set_index('NAME',inplace=True)"
      ],
      "execution_count": 6,
      "outputs": []
    },
    {
      "cell_type": "code",
      "metadata": {
        "id": "wHPNx3eiWhpy",
        "colab": {
          "base_uri": "https://localhost:8080/",
          "height": 142
        },
        "outputId": "d1abf547-efe6-4abc-9326-20d24575b9e1"
      },
      "source": [
        "# sample\n",
        "df.columns\n",
        "df.loc [['Volcanion','Venusaur'] ]"
      ],
      "execution_count": 7,
      "outputs": [
        {
          "output_type": "execute_result",
          "data": {
            "text/html": [
              "<div>\n",
              "<style scoped>\n",
              "    .dataframe tbody tr th:only-of-type {\n",
              "        vertical-align: middle;\n",
              "    }\n",
              "\n",
              "    .dataframe tbody tr th {\n",
              "        vertical-align: top;\n",
              "    }\n",
              "\n",
              "    .dataframe thead th {\n",
              "        text-align: right;\n",
              "    }\n",
              "</style>\n",
              "<table border=\"1\" class=\"dataframe\">\n",
              "  <thead>\n",
              "    <tr style=\"text-align: right;\">\n",
              "      <th></th>\n",
              "      <th>TYPE 1</th>\n",
              "      <th>TYPE 2</th>\n",
              "      <th>TOTAL</th>\n",
              "      <th>HP</th>\n",
              "      <th>ATTACK</th>\n",
              "      <th>DEFENSE</th>\n",
              "      <th>SP. ATK</th>\n",
              "      <th>SP. DEF</th>\n",
              "      <th>SPEED</th>\n",
              "      <th>GENERATION</th>\n",
              "      <th>LEGENDARY</th>\n",
              "    </tr>\n",
              "    <tr>\n",
              "      <th>NAME</th>\n",
              "      <th></th>\n",
              "      <th></th>\n",
              "      <th></th>\n",
              "      <th></th>\n",
              "      <th></th>\n",
              "      <th></th>\n",
              "      <th></th>\n",
              "      <th></th>\n",
              "      <th></th>\n",
              "      <th></th>\n",
              "      <th></th>\n",
              "    </tr>\n",
              "  </thead>\n",
              "  <tbody>\n",
              "    <tr>\n",
              "      <th>Volcanion</th>\n",
              "      <td>Fire</td>\n",
              "      <td>Water</td>\n",
              "      <td>600</td>\n",
              "      <td>80</td>\n",
              "      <td>110</td>\n",
              "      <td>120</td>\n",
              "      <td>130</td>\n",
              "      <td>90</td>\n",
              "      <td>70</td>\n",
              "      <td>6</td>\n",
              "      <td>True</td>\n",
              "    </tr>\n",
              "    <tr>\n",
              "      <th>Venusaur</th>\n",
              "      <td>Grass</td>\n",
              "      <td>Poison</td>\n",
              "      <td>525</td>\n",
              "      <td>80</td>\n",
              "      <td>82</td>\n",
              "      <td>83</td>\n",
              "      <td>100</td>\n",
              "      <td>100</td>\n",
              "      <td>80</td>\n",
              "      <td>1</td>\n",
              "      <td>False</td>\n",
              "    </tr>\n",
              "  </tbody>\n",
              "</table>\n",
              "</div>"
            ],
            "text/plain": [
              "          TYPE 1  TYPE 2  TOTAL  HP  ...  SP. DEF  SPEED  GENERATION  LEGENDARY\n",
              "NAME                                 ...                                       \n",
              "Volcanion   Fire   Water    600  80  ...       90     70           6       True\n",
              "Venusaur   Grass  Poison    525  80  ...      100     80           1      False\n",
              "\n",
              "[2 rows x 11 columns]"
            ]
          },
          "metadata": {
            "tags": []
          },
          "execution_count": 7
        }
      ]
    },
    {
      "cell_type": "code",
      "metadata": {
        "id": "fn9OpI4N76gS",
        "outputId": "c238d62a-001e-4509-ccde-9370eb867ac6",
        "colab": {
          "base_uri": "https://localhost:8080/"
        }
      },
      "source": [
        "water = df['TYPE 2'] == 'Water'\n",
        "df.loc[water].count"
      ],
      "execution_count": 11,
      "outputs": [
        {
          "output_type": "execute_result",
          "data": {
            "text/plain": [
              "<bound method DataFrame.count of                    TYPE 1 TYPE 2  TOTAL  ...  SPEED  GENERATION  LEGENDARY\n",
              "NAME                                     ...                              \n",
              "Omanyte              Rock  Water    355  ...     35           1      False\n",
              "Omastar              Rock  Water    495  ...     55           1      False\n",
              "Kabuto               Rock  Water    355  ...     55           1      False\n",
              "Kabutops             Rock  Water    495  ...     80           1      False\n",
              "Surskit               Bug  Water    269  ...     65           3      False\n",
              "Spheal                Ice  Water    290  ...     25           3      False\n",
              "Sealeo                Ice  Water    410  ...     45           3      False\n",
              "Walrein               Ice  Water    530  ...     65           3      False\n",
              "Bibarel            Normal  Water    410  ...     71           4      False\n",
              "RotomWash Rotom  Electric  Water    520  ...     86           4      False\n",
              "Binacle              Rock  Water    306  ...     50           6      False\n",
              "Barbaracle           Rock  Water    500  ...     68           6      False\n",
              "Skrelp             Poison  Water    320  ...     30           6      False\n",
              "Volcanion            Fire  Water    600  ...     70           6       True\n",
              "\n",
              "[14 rows x 11 columns]>"
            ]
          },
          "metadata": {
            "tags": []
          },
          "execution_count": 11
        }
      ]
    },
    {
      "cell_type": "markdown",
      "metadata": {
        "id": "3AIR-hWzbl9q"
      },
      "source": [
        "replace NaN values "
      ]
    },
    {
      "cell_type": "code",
      "metadata": {
        "id": "JeMLW2gxboUT"
      },
      "source": [
        "df['TYPE 2'].fillna(df['TYPE 1'],inplace=True)"
      ],
      "execution_count": 12,
      "outputs": []
    },
    {
      "cell_type": "code",
      "metadata": {
        "id": "Tz9g-bNOZTJv",
        "colab": {
          "base_uri": "https://localhost:8080/",
          "height": 390
        },
        "outputId": "c007892d-9400-474d-e6a6-18300a82044a"
      },
      "source": [
        "df.head(10)\n",
        "\n"
      ],
      "execution_count": 13,
      "outputs": [
        {
          "output_type": "execute_result",
          "data": {
            "text/html": [
              "<div>\n",
              "<style scoped>\n",
              "    .dataframe tbody tr th:only-of-type {\n",
              "        vertical-align: middle;\n",
              "    }\n",
              "\n",
              "    .dataframe tbody tr th {\n",
              "        vertical-align: top;\n",
              "    }\n",
              "\n",
              "    .dataframe thead th {\n",
              "        text-align: right;\n",
              "    }\n",
              "</style>\n",
              "<table border=\"1\" class=\"dataframe\">\n",
              "  <thead>\n",
              "    <tr style=\"text-align: right;\">\n",
              "      <th></th>\n",
              "      <th>TYPE 1</th>\n",
              "      <th>TYPE 2</th>\n",
              "      <th>TOTAL</th>\n",
              "      <th>HP</th>\n",
              "      <th>ATTACK</th>\n",
              "      <th>DEFENSE</th>\n",
              "      <th>SP. ATK</th>\n",
              "      <th>SP. DEF</th>\n",
              "      <th>SPEED</th>\n",
              "      <th>GENERATION</th>\n",
              "      <th>LEGENDARY</th>\n",
              "    </tr>\n",
              "    <tr>\n",
              "      <th>NAME</th>\n",
              "      <th></th>\n",
              "      <th></th>\n",
              "      <th></th>\n",
              "      <th></th>\n",
              "      <th></th>\n",
              "      <th></th>\n",
              "      <th></th>\n",
              "      <th></th>\n",
              "      <th></th>\n",
              "      <th></th>\n",
              "      <th></th>\n",
              "    </tr>\n",
              "  </thead>\n",
              "  <tbody>\n",
              "    <tr>\n",
              "      <th>Bulbasaur</th>\n",
              "      <td>Grass</td>\n",
              "      <td>Poison</td>\n",
              "      <td>318</td>\n",
              "      <td>45</td>\n",
              "      <td>49</td>\n",
              "      <td>49</td>\n",
              "      <td>65</td>\n",
              "      <td>65</td>\n",
              "      <td>45</td>\n",
              "      <td>1</td>\n",
              "      <td>False</td>\n",
              "    </tr>\n",
              "    <tr>\n",
              "      <th>Ivysaur</th>\n",
              "      <td>Grass</td>\n",
              "      <td>Poison</td>\n",
              "      <td>405</td>\n",
              "      <td>60</td>\n",
              "      <td>62</td>\n",
              "      <td>63</td>\n",
              "      <td>80</td>\n",
              "      <td>80</td>\n",
              "      <td>60</td>\n",
              "      <td>1</td>\n",
              "      <td>False</td>\n",
              "    </tr>\n",
              "    <tr>\n",
              "      <th>Venusaur</th>\n",
              "      <td>Grass</td>\n",
              "      <td>Poison</td>\n",
              "      <td>525</td>\n",
              "      <td>80</td>\n",
              "      <td>82</td>\n",
              "      <td>83</td>\n",
              "      <td>100</td>\n",
              "      <td>100</td>\n",
              "      <td>80</td>\n",
              "      <td>1</td>\n",
              "      <td>False</td>\n",
              "    </tr>\n",
              "    <tr>\n",
              "      <th>VenusaurMega Venusaur</th>\n",
              "      <td>Grass</td>\n",
              "      <td>Poison</td>\n",
              "      <td>625</td>\n",
              "      <td>80</td>\n",
              "      <td>100</td>\n",
              "      <td>123</td>\n",
              "      <td>122</td>\n",
              "      <td>120</td>\n",
              "      <td>80</td>\n",
              "      <td>1</td>\n",
              "      <td>False</td>\n",
              "    </tr>\n",
              "    <tr>\n",
              "      <th>Charmander</th>\n",
              "      <td>Fire</td>\n",
              "      <td>Fire</td>\n",
              "      <td>309</td>\n",
              "      <td>39</td>\n",
              "      <td>52</td>\n",
              "      <td>43</td>\n",
              "      <td>60</td>\n",
              "      <td>50</td>\n",
              "      <td>65</td>\n",
              "      <td>1</td>\n",
              "      <td>False</td>\n",
              "    </tr>\n",
              "    <tr>\n",
              "      <th>Charmeleon</th>\n",
              "      <td>Fire</td>\n",
              "      <td>Fire</td>\n",
              "      <td>405</td>\n",
              "      <td>58</td>\n",
              "      <td>64</td>\n",
              "      <td>58</td>\n",
              "      <td>80</td>\n",
              "      <td>65</td>\n",
              "      <td>80</td>\n",
              "      <td>1</td>\n",
              "      <td>False</td>\n",
              "    </tr>\n",
              "    <tr>\n",
              "      <th>Charizard</th>\n",
              "      <td>Fire</td>\n",
              "      <td>Flying</td>\n",
              "      <td>534</td>\n",
              "      <td>78</td>\n",
              "      <td>84</td>\n",
              "      <td>78</td>\n",
              "      <td>109</td>\n",
              "      <td>85</td>\n",
              "      <td>100</td>\n",
              "      <td>1</td>\n",
              "      <td>False</td>\n",
              "    </tr>\n",
              "    <tr>\n",
              "      <th>CharizardMega Charizard X</th>\n",
              "      <td>Fire</td>\n",
              "      <td>Dragon</td>\n",
              "      <td>634</td>\n",
              "      <td>78</td>\n",
              "      <td>130</td>\n",
              "      <td>111</td>\n",
              "      <td>130</td>\n",
              "      <td>85</td>\n",
              "      <td>100</td>\n",
              "      <td>1</td>\n",
              "      <td>False</td>\n",
              "    </tr>\n",
              "    <tr>\n",
              "      <th>CharizardMega Charizard Y</th>\n",
              "      <td>Fire</td>\n",
              "      <td>Flying</td>\n",
              "      <td>634</td>\n",
              "      <td>78</td>\n",
              "      <td>104</td>\n",
              "      <td>78</td>\n",
              "      <td>159</td>\n",
              "      <td>115</td>\n",
              "      <td>100</td>\n",
              "      <td>1</td>\n",
              "      <td>False</td>\n",
              "    </tr>\n",
              "    <tr>\n",
              "      <th>Squirtle</th>\n",
              "      <td>Water</td>\n",
              "      <td>Water</td>\n",
              "      <td>314</td>\n",
              "      <td>44</td>\n",
              "      <td>48</td>\n",
              "      <td>65</td>\n",
              "      <td>50</td>\n",
              "      <td>64</td>\n",
              "      <td>43</td>\n",
              "      <td>1</td>\n",
              "      <td>False</td>\n",
              "    </tr>\n",
              "  </tbody>\n",
              "</table>\n",
              "</div>"
            ],
            "text/plain": [
              "                          TYPE 1  TYPE 2  TOTAL  ...  SPEED  GENERATION  LEGENDARY\n",
              "NAME                                             ...                              \n",
              "Bulbasaur                  Grass  Poison    318  ...     45           1      False\n",
              "Ivysaur                    Grass  Poison    405  ...     60           1      False\n",
              "Venusaur                   Grass  Poison    525  ...     80           1      False\n",
              "VenusaurMega Venusaur      Grass  Poison    625  ...     80           1      False\n",
              "Charmander                  Fire    Fire    309  ...     65           1      False\n",
              "Charmeleon                  Fire    Fire    405  ...     80           1      False\n",
              "Charizard                   Fire  Flying    534  ...    100           1      False\n",
              "CharizardMega Charizard X   Fire  Dragon    634  ...    100           1      False\n",
              "CharizardMega Charizard Y   Fire  Flying    634  ...    100           1      False\n",
              "Squirtle                   Water   Water    314  ...     43           1      False\n",
              "\n",
              "[10 rows x 11 columns]"
            ]
          },
          "metadata": {
            "tags": []
          },
          "execution_count": 13
        }
      ]
    },
    {
      "cell_type": "markdown",
      "metadata": {
        "id": "ChgT0ZcNUumm"
      },
      "source": [
        "VISUALIZATION"
      ]
    },
    {
      "cell_type": "code",
      "metadata": {
        "id": "Qqho6CqM_EBS",
        "colab": {
          "base_uri": "https://localhost:8080/",
          "height": 459
        },
        "outputId": "fda84bb0-6267-490a-ff52-6c012a09c01a"
      },
      "source": [
        "plt.style.use('classic')\n",
        "plt.hist(df['ATTACK'],label='attacks', color='#f25710')\n",
        "plt.xlabel('attack')\n",
        "plt.ylabel('count')\n",
        "plt.show()"
      ],
      "execution_count": 25,
      "outputs": [
        {
          "output_type": "display_data",
          "data": {
            "image/png": "[encoded data removed]",
            "text/plain": [
              "<Figure size 640x480 with 1 Axes>"
            ]
          },
          "metadata": {
            "tags": []
          }
        }
      ]
    },
    {
      "cell_type": "markdown",
      "metadata": {
        "id": "VFpbE6ztTby_"
      },
      "source": [
        ""
      ]
    },
    {
      "cell_type": "code",
      "metadata": {
        "id": "gqi51mWO99ZH",
        "outputId": "d345d8e7-5adb-475b-a365-7144d26a2c16",
        "colab": {
          "base_uri": "https://localhost:8080/",
          "height": 459
        }
      },
      "source": [
        "plt.style.use('classic')\n",
        "plt.hist(df['ATTACK'],label='attacks', color='#f25710')\n",
        "plt.xlabel('attack')\n",
        "plt.ylabel('count')\n",
        "plt.axvline(df['ATTACK'].mean(), color='yellow', linestyle='dashed')\n",
        "plt.show()"
      ],
      "execution_count": 30,
      "outputs": [
        {
          "output_type": "display_data",
          "data": {
            "image/png": "[encoded data removed]",
            "text/plain": [
              "<Figure size 640x480 with 1 Axes>"
            ]
          },
          "metadata": {
            "tags": []
          }
        }
      ]
    },
    {
      "cell_type": "code",
      "metadata": {
        "id": "0DBWIVtE_2H-",
        "outputId": "f920be65-9db0-4610-acf3-752362d718fa",
        "colab": {
          "base_uri": "https://localhost:8080/",
          "height": 395
        }
      },
      "source": [
        "plt.subplots(figsize=(15,5))\n",
        "sns.boxplot(x=df['TYPE 1'], y=df['ATTACK'])\n",
        "plt.show()"
      ],
      "execution_count": 36,
      "outputs": [
        {
          "output_type": "display_data",
          "data": {
            "image/png": "[encoded data removed]",
            "text/plain": [
              "<Figure size 1200x400 with 1 Axes>"
            ]
          },
          "metadata": {
            "tags": []
          }
        }
      ]
    }
  ]
}